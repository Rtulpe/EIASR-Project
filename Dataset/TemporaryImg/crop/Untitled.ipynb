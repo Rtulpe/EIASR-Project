{
 "cells": [
  {
   "cell_type": "code",
   "execution_count": 1,
   "id": "86ed1047",
   "metadata": {
    "scrolled": true
   },
   "outputs": [],
   "source": [
    "import csv\n",
    "import pandas\n",
    "import cv2"
   ]
  },
  {
   "cell_type": "code",
   "execution_count": 2,
   "id": "fd0a9553",
   "metadata": {},
   "outputs": [
    {
     "name": "stdout",
     "output_type": "stream",
     "text": [
      "[['26725593.jpg', '4', '3', '118', '18', '3', '40', '118', '56'], ['26725620.jpg', '7', '7', '406', '48', '8', '69', '400', '111'], ['26725649.jpg', '2', '5', '197', '9', '5', '50', '197', '52'], ['26725657.jpg', '5', '5', '110', '20', '5', '38', '111', '53'], ['26725664.jpg', '5', '6', '180', '25', '5', '46', '183', '65'], ['26725669.jpg', '2', '3', '126', '17', '3', '41', '128', '55'], ['26725682.jpg', '3', '8', '180', '3', '3', '50', '181', '45'], ['26725709.jpg', '5', '2', '94', '14', '0', '33', '87', '47'], ['26725718.jpg', '8', '2', '152', '12', '1', '40', '145', '50'], ['26725724.jpg', '0', '0', '127', '13', '0', '38', '127', '52'], ['26725731.jpg', '4', '13', '153', '3', '4', '51', '152', '39'], ['26725735.jpg', '18', '9', '178', '20', '19', '46', '180', '57'], ['26725750.jpg', '23', '17', '212', '4', '24', '61', '214', '45'], ['26725756.jpg', '13', '5', '108', '2', '14', '24', '109', '20'], ['26725767.jpg', '34', '22', '204', '6', '41', '65', '212', '47'], ['26725783.jpg', '28', '20', '151', '6', '35', '57', '157', '42'], ['26725793.jpg', '15', '11', '134', '4', '19', '47', '139', '38'], ['26725797.jpg', '30', '21', '190', '10', '36', '64', '197', '51']]\n"
     ]
    }
   ],
   "source": [
    "with open('test.csv', newline='') as csvfile:\n",
    "    data = list(csv.reader(csvfile))\n",
    "print(data)"
   ]
  },
  {
   "cell_type": "code",
   "execution_count": 3,
   "id": "05b59ed0",
   "metadata": {},
   "outputs": [],
   "source": [
    "from ImageProcessor import *"
   ]
  },
  {
   "cell_type": "code",
   "execution_count": 4,
   "id": "d4031482",
   "metadata": {
    "scrolled": false
   },
   "outputs": [],
   "source": [
    "for x in data:\n",
    "    ProcessCSVImageArray(x)"
   ]
  }
 ],
 "metadata": {
  "kernelspec": {
   "display_name": "Python 3 (ipykernel)",
   "language": "python",
   "name": "python3"
  },
  "language_info": {
   "codemirror_mode": {
    "name": "ipython",
    "version": 3
   },
   "file_extension": ".py",
   "mimetype": "text/x-python",
   "name": "python",
   "nbconvert_exporter": "python",
   "pygments_lexer": "ipython3",
   "version": "3.12.7"
  }
 },
 "nbformat": 4,
 "nbformat_minor": 5
}
